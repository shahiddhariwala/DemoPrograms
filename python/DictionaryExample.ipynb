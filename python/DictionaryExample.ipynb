{
 "cells": [
  {
   "cell_type": "code",
   "execution_count": 2,
   "metadata": {
    "collapsed": true
   },
   "outputs": [],
   "source": [
    "###Dictionary Example"
   ]
  },
  {
   "cell_type": "code",
   "execution_count": 7,
   "metadata": {},
   "outputs": [
    {
     "data": {
      "text/plain": [
       "{'Dhariwala': 2, 'PythonProgramming': 5, 'Shahid': 1, 'Welcome': 3, 'to': 4}"
      ]
     },
     "execution_count": 7,
     "metadata": {},
     "output_type": "execute_result"
    }
   ],
   "source": [
    "Dict1 = {\"Shahid\" : 1 ,\"Dhariwala\" : 2,\"Welcome\" : 3 ,\"to\" : 4,\"PythonProgramming\" : 5 }\n",
    "Dict1\n",
    "#to init Dictionary"
   ]
  },
  {
   "cell_type": "code",
   "execution_count": 8,
   "metadata": {},
   "outputs": [
    {
     "data": {
      "text/plain": [
       "dict_values([1, 2, 3, 4, 5])"
      ]
     },
     "execution_count": 8,
     "metadata": {},
     "output_type": "execute_result"
    }
   ],
   "source": [
    "Dict1 = {\"Shahid\" : 1 ,\"Dhariwala\" : 2,\"Welcome\" : 3 ,\"to\" : 4,\"PythonProgramming\" : 5 }\n",
    "Dict1.values()\n",
    "##To get Values"
   ]
  },
  {
   "cell_type": "code",
   "execution_count": 10,
   "metadata": {},
   "outputs": [
    {
     "data": {
      "text/plain": [
       "dict_keys(['Shahid', 'Dhariwala', 'Welcome', 'to', 'PythonProgramming'])"
      ]
     },
     "execution_count": 10,
     "metadata": {},
     "output_type": "execute_result"
    }
   ],
   "source": [
    "Dict1 = {\"Shahid\" : 1 ,\"Dhariwala\" : 2,\"Welcome\" : 3 ,\"to\" : 4,\"PythonProgramming\" : 5 }\n",
    "Dict1.keys()\n",
    "##To get keys"
   ]
  },
  {
   "cell_type": "code",
   "execution_count": 13,
   "metadata": {},
   "outputs": [
    {
     "data": {
      "text/plain": [
       "{'PythonProgramming': 5, 'Shahid': 1, 'Welcome': 3, 'to': 4}"
      ]
     },
     "execution_count": 13,
     "metadata": {},
     "output_type": "execute_result"
    }
   ],
   "source": [
    "Dict1 = {\"Shahid\" : 1 ,\"Dhariwala\" : 2,\"Welcome\" : 3 ,\"to\" : 4,\"PythonProgramming\" : 5 }\n",
    "del Dict1[\"Dhariwala\"]\n",
    "Dict1\n",
    "## to delete particular keyname"
   ]
  },
  {
   "cell_type": "code",
   "execution_count": 16,
   "metadata": {},
   "outputs": [
    {
     "data": {
      "text/plain": [
       "{'Dhariwala': 2, 'PythonProgramming': 5, 'Shahid': 1, 'Welcome': 3, 'to': 4}"
      ]
     },
     "execution_count": 16,
     "metadata": {},
     "output_type": "execute_result"
    }
   ],
   "source": [
    "Dict1 = {\"Shahid\" : 1 ,\"Dhariwala\" : 2}\n",
    "Dict2 = {\"Welcome\" : 3 ,\"to\" : 4,\"PythonProgramming\" : 5 }\n",
    "Dict1.update(Dict2)\n",
    "Dict1\n",
    "## to concat the Dictionary"
   ]
  },
  {
   "cell_type": "code",
   "execution_count": 18,
   "metadata": {},
   "outputs": [
    {
     "ename": "NameError",
     "evalue": "name 'Dict1' is not defined",
     "output_type": "error",
     "traceback": [
      "\u001b[1;31m---------------------------------------------------------------------------\u001b[0m",
      "\u001b[1;31mNameError\u001b[0m                                 Traceback (most recent call last)",
      "\u001b[1;32m<ipython-input-18-eb52d6990042>\u001b[0m in \u001b[0;36m<module>\u001b[1;34m()\u001b[0m\n\u001b[0;32m      2\u001b[0m \u001b[0mDict1\u001b[0m \u001b[1;33m=\u001b[0m \u001b[1;33m{\u001b[0m\u001b[1;34m\"Shahid\"\u001b[0m \u001b[1;33m:\u001b[0m \u001b[1;36m1\u001b[0m \u001b[1;33m,\u001b[0m\u001b[1;34m\"Dhariwala\"\u001b[0m \u001b[1;33m:\u001b[0m \u001b[1;36m2\u001b[0m\u001b[1;33m,\u001b[0m\u001b[1;34m\"Welcome\"\u001b[0m \u001b[1;33m:\u001b[0m \u001b[1;36m3\u001b[0m \u001b[1;33m,\u001b[0m\u001b[1;34m\"to\"\u001b[0m \u001b[1;33m:\u001b[0m \u001b[1;36m4\u001b[0m\u001b[1;33m,\u001b[0m\u001b[1;34m\"PythonProgramming\"\u001b[0m \u001b[1;33m:\u001b[0m \u001b[1;36m5\u001b[0m \u001b[1;33m}\u001b[0m\u001b[1;33m\u001b[0m\u001b[0m\n\u001b[0;32m      3\u001b[0m \u001b[1;32mdel\u001b[0m \u001b[0mDict1\u001b[0m\u001b[1;33m\u001b[0m\u001b[0m\n\u001b[1;32m----> 4\u001b[1;33m \u001b[0mDict1\u001b[0m\u001b[1;33m\u001b[0m\u001b[0m\n\u001b[0m",
      "\u001b[1;31mNameError\u001b[0m: name 'Dict1' is not defined"
     ]
    }
   ],
   "source": [
    "### to delete dictionary\n",
    "Dict1 = {\"Shahid\" : 1 ,\"Dhariwala\" : 2,\"Welcome\" : 3 ,\"to\" : 4,\"PythonProgramming\" : 5 }\n",
    "del Dict1\n",
    "Dict1"
   ]
  }
 ],
 "metadata": {
  "kernelspec": {
   "display_name": "Python 3",
   "language": "python",
   "name": "python3"
  },
  "language_info": {
   "codemirror_mode": {
    "name": "ipython",
    "version": 3
   },
   "file_extension": ".py",
   "mimetype": "text/x-python",
   "name": "python",
   "nbconvert_exporter": "python",
   "pygments_lexer": "ipython3",
   "version": "3.6.1"
  }
 },
 "nbformat": 4,
 "nbformat_minor": 2
}
