{
 "cells": [
  {
   "cell_type": "code",
   "execution_count": 2,
   "metadata": {
    "collapsed": true
   },
   "outputs": [],
   "source": [
    "##Write a program to find largest and Smallest in Python -Shahid Dhariwala\n"
   ]
  },
  {
   "cell_type": "code",
   "execution_count": 25,
   "metadata": {},
   "outputs": [
    {
     "name": "stdout",
     "output_type": "stream",
     "text": [
      "Lenght of array is: 13\n",
      "minimum number in array is: 1\n",
      "max in array is: 98\n",
      "Sorted array is [1, 2, 3, 4, 5, 6, 7, 8, 11, 22, 33, 44, 98]\n"
     ]
    }
   ],
   "source": [
    "arraylist = [1,2,3,6,7,4,33,22,11,98,44,5,8]\n",
    "print(\"Lenght of array is: %s\"%(len(arraylist))) ##Predefine methods min(),len(),max(),sort()\n",
    "print(\"minimum number in array is: %s\"%(min(arraylist)))\n",
    "print(\"max in array is: %s\"%(max(arraylist)))\n",
    "arraylist.sort()\n",
    "print(\"Sorted array is %s\"%(arraylist))\n",
    "\n"
   ]
  },
  {
   "cell_type": "code",
   "execution_count": null,
   "metadata": {
    "collapsed": true
   },
   "outputs": [],
   "source": []
  }
 ],
 "metadata": {
  "kernelspec": {
   "display_name": "Python 3",
   "language": "python",
   "name": "python3"
  },
  "language_info": {
   "codemirror_mode": {
    "name": "ipython",
    "version": 3
   },
   "file_extension": ".py",
   "mimetype": "text/x-python",
   "name": "python",
   "nbconvert_exporter": "python",
   "pygments_lexer": "ipython3",
   "version": "3.6.1"
  }
 },
 "nbformat": 4,
 "nbformat_minor": 2
}
