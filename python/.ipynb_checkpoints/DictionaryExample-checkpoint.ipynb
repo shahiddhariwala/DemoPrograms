{
 "cells": [
  {
   "cell_type": "code",
   "execution_count": 2,
   "metadata": {
    "collapsed": true
   },
   "outputs": [],
   "source": [
    "###Dictionary Example"
   ]
  },
  {
   "cell_type": "code",
   "execution_count": 7,
   "metadata": {},
   "outputs": [
    {
     "data": {
      "text/plain": [
       "{'Dhariwala': 2, 'PythonProgramming': 5, 'Shahid': 1, 'Welcome': 3, 'to': 4}"
      ]
     },
     "execution_count": 7,
     "metadata": {},
     "output_type": "execute_result"
    }
   ],
   "source": [
    "Dict1 = {\"Shahid\" : 1 ,\"Dhariwala\" : 2,\"Welcome\" : 3 ,\"to\" : 4,\"PythonProgramming\" : 5 }\n",
    "Dict1\n",
    "#to init Dictionary"
   ]
  },
  {
   "cell_type": "code",
   "execution_count": 8,
   "metadata": {},
   "outputs": [
    {
     "data": {
      "text/plain": [
       "dict_values([1, 2, 3, 4, 5])"
      ]
     },
     "execution_count": 8,
     "metadata": {},
     "output_type": "execute_result"
    }
   ],
   "source": [
    "Dict1 = {\"Shahid\" : 1 ,\"Dhariwala\" : 2,\"Welcome\" : 3 ,\"to\" : 4,\"PythonProgramming\" : 5 }\n",
    "Dict1.values()\n",
    "##To get Values"
   ]
  },
  {
   "cell_type": "code",
   "execution_count": 10,
   "metadata": {},
   "outputs": [
    {
     "data": {
      "text/plain": [
       "dict_keys(['Shahid', 'Dhariwala', 'Welcome', 'to', 'PythonProgramming'])"
      ]
     },
     "execution_count": 10,
     "metadata": {},
     "output_type": "execute_result"
    }
   ],
   "source": [
    "Dict1 = {\"Shahid\" : 1 ,\"Dhariwala\" : 2,\"Welcome\" : 3 ,\"to\" : 4,\"PythonProgramming\" : 5 }\n",
    "Dict1.keys()\n",
    "##To get keys"
   ]
  },
  {
   "cell_type": "code",
   "execution_count": 13,
   "metadata": {},
   "outputs": [
    {
     "data": {
      "text/plain": [
       "{'PythonProgramming': 5, 'Shahid': 1, 'Welcome': 3, 'to': 4}"
      ]
     },
     "execution_count": 13,
     "metadata": {},
     "output_type": "execute_result"
    }
   ],
   "source": [
    "Dict1 = {\"Shahid\" : 1 ,\"Dhariwala\" : 2,\"Welcome\" : 3 ,\"to\" : 4,\"PythonProgramming\" : 5 }\n",
    "del Dict1[\"Dhariwala\"]\n",
    "Dict1\n",
    "## to delete particular keyname"
   ]
  },
  {
   "cell_type": "code",
   "execution_count": 15,
   "metadata": {},
   "outputs": [
    {
     "data": {
      "text/plain": [
       "{'Dhariwala': 2, 'PythonProgramming': 5, 'Shahid': 1, 'Welcome': 3, 'to': 4}"
      ]
     },
     "execution_count": 15,
     "metadata": {},
     "output_type": "execute_result"
    }
   ],
   "source": [
    "Dict1 = {\"Shahid\" : 1 ,\"Dhariwala\" : 2}\n",
    "Dict2 = {\"Welcome\" : 3 ,\"to\" : 4,\"PythonProgramming\" : 5 }\n",
    "Dict1.update(Dict2)\n",
    "Dict1\n",
    "## to concat the Dictionary"
   ]
  }
 ],
 "metadata": {
  "kernelspec": {
   "display_name": "Python 3",
   "language": "python",
   "name": "python3"
  },
  "language_info": {
   "codemirror_mode": {
    "name": "ipython",
    "version": 3
   },
   "file_extension": ".py",
   "mimetype": "text/x-python",
   "name": "python",
   "nbconvert_exporter": "python",
   "pygments_lexer": "ipython3",
   "version": "3.6.1"
  }
 },
 "nbformat": 4,
 "nbformat_minor": 2
}
