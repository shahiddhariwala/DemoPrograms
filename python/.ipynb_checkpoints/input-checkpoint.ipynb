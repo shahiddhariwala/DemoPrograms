{
 "cells": [
  {
   "cell_type": "code",
   "execution_count": null,
   "metadata": {
    "collapsed": true
   },
   "outputs": [],
   "source": [
    "##Program for Taking Input"
   ]
  },
  {
   "cell_type": "code",
   "execution_count": 1,
   "metadata": {},
   "outputs": [
    {
     "name": "stdout",
     "output_type": "stream",
     "text": [
      "Please Enter your First Name : Shahid\n",
      "Please Enter your Last Name : Dhariwala\n",
      "Hello Shahid DhariwalaWelcome to World of Programming\n"
     ]
    }
   ],
   "source": [
    "fname = input(\"Please Enter your First Name : \")\n",
    "lname = input(\"Please Enter your Last Name : \")\n",
    "print(\"Hello \" + fname+\" \"+lname+\" Welcome to World of Programming\")"
   ]
  }
 ],
 "metadata": {
  "kernelspec": {
   "display_name": "Python 3",
   "language": "python",
   "name": "python3"
  },
  "language_info": {
   "codemirror_mode": {
    "name": "ipython",
    "version": 3
   },
   "file_extension": ".py",
   "mimetype": "text/x-python",
   "name": "python",
   "nbconvert_exporter": "python",
   "pygments_lexer": "ipython3",
   "version": "3.6.1"
  }
 },
 "nbformat": 4,
 "nbformat_minor": 2
}
