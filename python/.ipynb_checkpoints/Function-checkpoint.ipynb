{
 "cells": [
  {
   "cell_type": "markdown",
   "metadata": {},
   "source": [
    "# Functions in Python"
   ]
  },
  {
   "cell_type": "code",
   "execution_count": 3,
   "metadata": {},
   "outputs": [
    {
     "name": "stdout",
     "output_type": "stream",
     "text": [
      "Please enter the number of rows \n",
      ">> 6\n",
      "*\n",
      "**\n",
      "***\n",
      "****\n",
      "*****\n",
      "******\n"
     ]
    }
   ],
   "source": [
    "# syntax for defining function\n",
    "# def functionname(parameters):\n",
    "# we will write function for printing pattern & passinng parameter to it\n",
    "\n",
    "def pattern(n):  \n",
    "    for i in range(0,n):\n",
    "        for j in range(0,i+1):\n",
    "            print(\"*\",end=\"\")\n",
    "        print(\"\")\n",
    "\n",
    "parameter1=int(input(\"Please enter the number of rows \\n>> \"))\n",
    "pattern(parameter1) \n",
    "\n"
   ]
  },
  {
   "cell_type": "code",
   "execution_count": 6,
   "metadata": {},
   "outputs": [
    {
     "name": "stdout",
     "output_type": "stream",
     "text": [
      "Enter the First value : \n",
      "4\n",
      "Enter the Second value : \n",
      "56\n",
      "Addition is : 60\n"
     ]
    }
   ],
   "source": [
    "# function with return value\n",
    "\n",
    "def add(x,y):\n",
    "    sum = x+y\n",
    "    return sum\n",
    "a = int(input(\"Enter the First value : \\n\"))\n",
    "b = int(input(\"Enter the Second value : \\n\"))\n",
    "sum1=add(a,b)\n",
    "print(\"Addition is : %d\" %sum1)"
   ]
  }
 ],
 "metadata": {
  "kernelspec": {
   "display_name": "Python 3",
   "language": "python",
   "name": "python3"
  },
  "language_info": {
   "codemirror_mode": {
    "name": "ipython",
    "version": 3
   },
   "file_extension": ".py",
   "mimetype": "text/x-python",
   "name": "python",
   "nbconvert_exporter": "python",
   "pygments_lexer": "ipython3",
   "version": "3.6.1"
  }
 },
 "nbformat": 4,
 "nbformat_minor": 2
}
