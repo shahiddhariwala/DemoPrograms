{
 "cells": [
  {
   "cell_type": "markdown",
   "metadata": {
    "collapsed": true
   },
   "source": [
    "## To check a String is palindrome or not"
   ]
  },
  {
   "cell_type": "code",
   "execution_count": 1,
   "metadata": {},
   "outputs": [
    {
     "name": "stdout",
     "output_type": "stream",
     "text": [
      "True\n"
     ]
    }
   ],
   "source": [
    "# using reverse of string approach\n",
    "\n",
    "def is_palindrome(input,case_sensitive=False):\n",
    "    \n",
    "    # make sure convert anything to string first\n",
    "    input = str(input)\n",
    "    \n",
    "    # make case sensitive adjustment\n",
    "    if case_sensitive is False:\n",
    "        input = input.lower()\n",
    "    \n",
    "    # reverse input string\n",
    "    rev_input = input[::-1]\n",
    "    \n",
    "    # check reverse string is same as input string\n",
    "    if rev_input == input:\n",
    "        return True\n",
    "    else :\n",
    "        return False\n",
    "    \n",
    "    \n",
    "# test\n",
    "print(is_palindrome(\"RONOR\",True))"
   ]
  },
  {
   "cell_type": "code",
   "execution_count": 31,
   "metadata": {},
   "outputs": [
    {
     "name": "stdout",
     "output_type": "stream",
     "text": [
      "True\n"
     ]
    }
   ],
   "source": [
    "# using loops\n",
    "\n",
    "def is_palindrome(input,case_sensitive=False):\n",
    "    \n",
    "    # make sure convert anything to string first\n",
    "    input = str(input)\n",
    "    \n",
    "    # make case sensitive adjustment\n",
    "    if case_sensitive is False:\n",
    "        input = input.lower()\n",
    "    \n",
    "    # get length of input\n",
    "    length_input = len(input)\n",
    "    \n",
    "    # define flag\n",
    "    is_palin = True\n",
    "    \n",
    "    # loop over and check data points are same or not\n",
    "    for index in range(0,(length_input-1)/2):\n",
    "        if input[index] != input[length_input-1-index]:\n",
    "            is_palin = False\n",
    "            break\n",
    "            \n",
    "    #return flag        \n",
    "    return is_palin       \n",
    "    \n",
    "# test\n",
    "print(is_palindrome(\"Nayan\"))"
   ]
  },
  {
   "cell_type": "markdown",
   "metadata": {},
   "source": [
    "## Method which will remove any given character from a String"
   ]
  },
  {
   "cell_type": "code",
   "execution_count": 11,
   "metadata": {},
   "outputs": [
    {
     "name": "stdout",
     "output_type": "stream",
     "text": [
      "salma\n"
     ]
    }
   ],
   "source": [
    "def remove_char(input,char_to_remove):\n",
    "    \n",
    "    # make sure everything is string\n",
    "    input = str(input)\n",
    "    \n",
    "    # define output list\n",
    "    output = []\n",
    "    \n",
    "    # loop over each element and check is it equal to char to remove\n",
    "    for index_char in input:\n",
    "        if index_char != char_to_remove:\n",
    "               output.append(index_char)\n",
    "    \n",
    "    # return by combining element of an array\n",
    "    return ''.join(output)\n",
    "\n",
    "\n",
    "print(remove_char(\"salman\",\"n\"))"
   ]
  },
  {
   "cell_type": "markdown",
   "metadata": {},
   "source": [
    "## Print all permutation of String\n",
    "- http://stackoverflow.com/questions/18227931/iterative-solution-for-finding-string-permutations\n",
    "- http://stackoverflow.com/questions/8306654/finding-all-possible-permutations-of-a-given-string-in-python"
   ]
  },
  {
   "cell_type": "code",
   "execution_count": 21,
   "metadata": {},
   "outputs": [
    {
     "name": "stdout",
     "output_type": "stream",
     "text": [
      "['tcs', 'cts', 'cst', 'tsc', 'stc', 'sct']\n"
     ]
    }
   ],
   "source": [
    "# recursive approach\n",
    "\n",
    "def get_permutation(input):\n",
    "    \n",
    "    # this is base condition if length of input is 1 return as it is\n",
    "    if len(input) == 1:\n",
    "        return [input]\n",
    "    \n",
    "    # get the first char of input\n",
    "    first_char = input[0]\n",
    "    \n",
    "    # get rest of the input\n",
    "    rest_input = input[1:]\n",
    "    \n",
    "    # perform combination of rest of the input\n",
    "    rest_input_permutations = get_permutation(rest_input)\n",
    "    \n",
    "    # insert this first char in each and every permutation\n",
    "    # at all possible location\n",
    "    result=[]\n",
    "    for single_permuation in rest_input_permutations:\n",
    "        for index in range(len(single_permuation)+1):\n",
    "            result.append(single_permuation[:index] + first_char + single_permuation[index:])\n",
    "    \n",
    "    return result\n",
    "    \n",
    "print(get_permutation(\"tcs\"))"
   ]
  },
  {
   "cell_type": "code",
   "execution_count": 22,
   "metadata": {},
   "outputs": [
    {
     "name": "stdout",
     "output_type": "stream",
     "text": [
      "['tcs', 'cts', 'cst', 'tsc', 'stc', 'sct']\n"
     ]
    }
   ],
   "source": [
    "# iterative approach\n",
    "\n",
    "def get_permutation(input):\n",
    "    \n",
    "    #convert input into stack\n",
    "    stack = list(input)\n",
    "    \n",
    "    #define the result last element will be the single permutation\n",
    "    result = [stack.pop()]\n",
    "    \n",
    "    # now iterate through stack for all the combinations\n",
    "    while(len(stack) != 0):\n",
    "        \n",
    "        # get last char from the stack\n",
    "        last_char =  stack.pop()\n",
    "        \n",
    "        # iterate over result array and add this last_char to each and every element\n",
    "        # at all possible location\n",
    "        temp_result = []\n",
    "        for com in result:\n",
    "            for index in range(len(com)+1):\n",
    "                temp_result.append(com[:index] + last_char + com[index:])\n",
    "                \n",
    "        result = temp_result\n",
    "        \n",
    "    \n",
    "    return result\n",
    "print(get_permutation(\"tcs\"))"
   ]
  },
  {
   "cell_type": "markdown",
   "metadata": {},
   "source": [
    "## How to find first non repeated character of a given String?"
   ]
  },
  {
   "cell_type": "code",
   "execution_count": 8,
   "metadata": {},
   "outputs": [
    {
     "name": "stdout",
     "output_type": "stream",
     "text": [
      "v\n"
     ]
    }
   ],
   "source": [
    "# import ordered dict from collections \n",
    "from collections import OrderedDict\n",
    "\n",
    "def get_first_non_rep_char(input):\n",
    "    \n",
    "    # declare ordered dict\n",
    "    my_table = OrderedDict()\n",
    "    \n",
    "    # loop over input\n",
    "    for c in input:\n",
    "        # check this char already in dict\n",
    "        # if present increment count by 1\n",
    "        # else make new entry with 1\n",
    "        if c in my_table:\n",
    "            my_table[c] += 1\n",
    "        else :\n",
    "            my_table[c] = 1\n",
    "    \n",
    "    # declare result\n",
    "    result = None\n",
    "    \n",
    "    # loop over ordered dict and check first value with 1 \n",
    "    for k in my_table:\n",
    "        if my_table[k] == 1:\n",
    "            result = k\n",
    "            break\n",
    "            \n",
    "    return result\n",
    "\n",
    "\n",
    "print(get_first_non_rep_char(\"aavaazccb\"))"
   ]
  },
  {
   "cell_type": "markdown",
   "metadata": {},
   "source": [
    "## How to count occurrence of a given character in a String?"
   ]
  },
  {
   "cell_type": "code",
   "execution_count": 9,
   "metadata": {},
   "outputs": [
    {
     "name": "stdout",
     "output_type": "stream",
     "text": [
      "{'a': 4, 'c': 2, 'z': 1, 'b': 1, 'v': 1}\n"
     ]
    }
   ],
   "source": [
    "def count_char(input):\n",
    "    \n",
    "    # declare dict\n",
    "    my_table = dict()\n",
    "    \n",
    "    # loop over input\n",
    "    for c in input:\n",
    "        # check this char already in dict\n",
    "        # if present increment count by 1\n",
    "        # else make new entry with 1\n",
    "        if c in my_table:\n",
    "            my_table[c] += 1\n",
    "        else :\n",
    "            my_table[c] = 1\n",
    "            \n",
    "    return my_table\n",
    "\n",
    "\n",
    "print(count_char(\"aavaazccb\"))"
   ]
  },
  {
   "cell_type": "markdown",
   "metadata": {
    "collapsed": true
   },
   "source": [
    "## How to check if two String are Anagram?"
   ]
  },
  {
   "cell_type": "code",
   "execution_count": 11,
   "metadata": {},
   "outputs": [
    {
     "name": "stdout",
     "output_type": "stream",
     "text": [
      "True\n"
     ]
    }
   ],
   "source": [
    "def check_anagram(input1,input2):\n",
    "    \n",
    "    # convert input to list\n",
    "    input1_list = list(input1)\n",
    "    input2_list = list(input2)\n",
    "    \n",
    "    # sort input list\n",
    "    input1_list.sort()\n",
    "    input2_list.sort()\n",
    "    \n",
    "    # check if both lists are same\n",
    "    if input1_list == input2_list:\n",
    "        return True\n",
    "    else:\n",
    "        return False\n",
    "    \n",
    "\n",
    "st1 = \"salman\"\n",
    "st2 = \"almans\"\n",
    "print(check_anagram(st1,st2))"
   ]
  },
  {
   "cell_type": "markdown",
   "metadata": {},
   "source": [
    "## In an array 1-100 numbers are stored, one number is missing how do you find it\n",
    "- http://stackoverflow.com/questions/20718315/how-to-find-a-missing-number-from-a-list"
   ]
  },
  {
   "cell_type": "code",
   "execution_count": 14,
   "metadata": {},
   "outputs": [
    {
     "name": "stdout",
     "output_type": "stream",
     "text": [
      "6\n"
     ]
    }
   ],
   "source": [
    "def find_missing_entry(a):\n",
    "    return sum(xrange(a[0],a[-1]+1)) - sum(a)\n",
    "\n",
    "print(find_missing_entry([1,2,3,4,5,7,8,9]))"
   ]
  },
  {
   "cell_type": "markdown",
   "metadata": {},
   "source": [
    "## In an array 1-100 exactly one number is duplicate how do you find it?\n",
    "## In an array 1-100 multiple numbers are duplicates, how do you find it?"
   ]
  },
  {
   "cell_type": "code",
   "execution_count": 21,
   "metadata": {},
   "outputs": [
    {
     "name": "stdout",
     "output_type": "stream",
     "text": [
      "[2, 3, 4, 7, 8, 9]\n"
     ]
    }
   ],
   "source": [
    "def find_dupllicates_entry(input,frequency=2):\n",
    "    my_dict = dict()\n",
    "    \n",
    "    for entry in input:\n",
    "        if entry in my_dict:\n",
    "            my_dict[entry] += 1\n",
    "        else :\n",
    "            my_dict[entry] = 1\n",
    "    \n",
    "    result = list()\n",
    "    \n",
    "    for key in my_dict:\n",
    "        if my_dict[key] == frequency:\n",
    "            result.append(key)\n",
    "            \n",
    "    return result\n",
    "\n",
    "print(find_missing_entry([1,1,1,2,3,4,5,5,7,8,9],1))"
   ]
  },
  {
   "cell_type": "markdown",
   "metadata": {},
   "source": [
    "## Given two arrays, 1,2,3,4,5 and 2,3,1,0,5 find which number is not present in the second array."
   ]
  },
  {
   "cell_type": "code",
   "execution_count": 23,
   "metadata": {},
   "outputs": [
    {
     "name": "stdout",
     "output_type": "stream",
     "text": [
      "set([4])\n"
     ]
    }
   ],
   "source": [
    "def find_set_difference(list1,list2):\n",
    "    set1 = set(list1)\n",
    "    set2 = set(list2)\n",
    "    \n",
    "    set_result = set1 - set2\n",
    "    \n",
    "    return set_result\n",
    "\n",
    "list1 = [1,2,3,4,5]\n",
    "list2 = [2,3,1,0,5]\n",
    "\n",
    "print(find_set_difference(list1,list2))"
   ]
  },
  {
   "cell_type": "markdown",
   "metadata": {},
   "source": [
    "## How do you find second highest number in an integer array?"
   ]
  },
  {
   "cell_type": "code",
   "execution_count": 37,
   "metadata": {},
   "outputs": [
    {
     "name": "stdout",
     "output_type": "stream",
     "text": [
      "8\n"
     ]
    }
   ],
   "source": [
    "def find_nth_highest(input,index):\n",
    "    \n",
    "    #sort input\n",
    "    input.sort()\n",
    "    \n",
    "    # convert input to set to remove duplicates\n",
    "    # again convert set to list to get indexing\n",
    "    sorted_list = list(set(input))\n",
    "    \n",
    "    # return required index\n",
    "    return sorted_list[index]\n",
    "\n",
    "list1 = [1,3,5,4,5,1,8,6]\n",
    "\n",
    "print(find_nth_highest(list1,5))"
   ]
  },
  {
   "cell_type": "markdown",
   "metadata": {},
   "source": [
    "## How to find all pairs in array of integers whose sum is equal to given number?"
   ]
  },
  {
   "cell_type": "code",
   "execution_count": 12,
   "metadata": {},
   "outputs": [
    {
     "name": "stdout",
     "output_type": "stream",
     "text": [
      "[0, 1, 0, 0, 0, 0, 0, 0, 0, 0, 0, 0, 0, 0, 0, 0, 0, 0, 0, 0, 0, 0, 0, 0, 0, 0, 0, 0, 0, 0, 0, 0, 0, 0, 0, 0, 0, 0, 0, 0, 0, 0, 0, 0, 0, 0, 0, 0, 0, 0]\n",
      "[0, 1, 0, 0, 1, 0, 0, 0, 0, 0, 0, 0, 0, 0, 0, 0, 0, 0, 0, 0, 0, 0, 0, 0, 0, 0, 0, 0, 0, 0, 0, 0, 0, 0, 0, 0, 0, 0, 0, 0, 0, 0, 0, 0, 0, 0, 0, 0, 0, 0]\n",
      "[0, 1, 0, 0, 1, 0, 0, 0, 0, 0, 0, 0, 0, 0, 0, 0, 0, 0, 0, 0, 0, 0, 0, 0, 0, 0, 0, 0, 0, 0, 0, 0, 0, 0, 0, 0, 0, 0, 0, 0, 0, 0, 0, 0, 0, 1, 0, 0, 0, 0]\n",
      "[0, 1, 0, 0, 1, 0, 1, 0, 0, 0, 0, 0, 0, 0, 0, 0, 0, 0, 0, 0, 0, 0, 0, 0, 0, 0, 0, 0, 0, 0, 0, 0, 0, 0, 0, 0, 0, 0, 0, 0, 0, 0, 0, 0, 0, 1, 0, 0, 0, 0]\n",
      "Pair with the given sum is 10 and 6\n",
      "[0, 1, 0, 0, 1, 0, 1, 0, 0, 0, 1, 0, 0, 0, 0, 0, 0, 0, 0, 0, 0, 0, 0, 0, 0, 0, 0, 0, 0, 0, 0, 0, 0, 0, 0, 0, 0, 0, 0, 0, 0, 0, 0, 0, 0, 1, 0, 0, 0, 0]\n",
      "[0, 1, 0, 0, 1, 0, 1, 0, 0, 0, 1, 0, 0, 0, 0, 0, 0, 0, 0, 0, 0, 0, 0, 0, 0, 0, 0, 0, 0, 0, 0, 0, 0, 0, 0, 0, 0, 0, 0, 0, 0, 0, 1, 0, 0, 1, 0, 0, 0, 0]\n",
      "[0, 1, 0, 0, 1, 0, 1, 0, 1, 0, 1, 0, 0, 0, 0, 0, 0, 0, 0, 0, 0, 0, 0, 0, 0, 0, 0, 0, 0, 0, 0, 0, 0, 0, 0, 0, 0, 0, 0, 0, 0, 0, 1, 0, 0, 1, 0, 0, 0, 0]\n",
      "Pair with the given sum is 8 and 8\n",
      "[0, 1, 0, 0, 1, 0, 1, 0, 1, 0, 1, 0, 0, 0, 0, 0, 0, 0, 0, 0, 0, 0, 0, 0, 0, 0, 0, 0, 0, 0, 0, 0, 0, 0, 0, 0, 0, 0, 0, 0, 0, 0, 1, 0, 0, 1, 0, 0, 0, 0]\n"
     ]
    }
   ],
   "source": [
    "# Python program to find if there are two elements wtih given sum\n",
    "CONST_MAX = 50\n",
    " \n",
    "# function to check for the given sum in the array\n",
    "def printPairs(arr,sum):\n",
    "    arr_size = len(arr)\n",
    "    \n",
    "    # initialize hash map as 0\n",
    "    binmap = [0]*CONST_MAX\n",
    "    \n",
    "     \n",
    "    for i in range(0,arr_size):\n",
    "        temp = sum-arr[i]\n",
    "        if (temp>=0 and binmap[temp]==1):\n",
    "            print \"Pair with the given sum is\", arr[i], \"and\", temp\n",
    "        binmap[arr[i]]=1\n",
    "        print(binmap)\n",
    " \n",
    "# driver program to check the above function\n",
    "A = [1,4,45,6,10,-8,8,8]\n",
    "n = 16\n",
    "printPairs(A, n)"
   ]
  },
  {
   "cell_type": "markdown",
   "metadata": {},
   "source": [
    "## How to remove duplicate elements from array ?"
   ]
  },
  {
   "cell_type": "code",
   "execution_count": 5,
   "metadata": {},
   "outputs": [
    {
     "name": "stdout",
     "output_type": "stream",
     "text": [
      "[67, 33, 34, 11, 22]\n"
     ]
    }
   ],
   "source": [
    "def remove_dup(input):\n",
    "    return list(set(input))\n",
    "    \n",
    "input = [11,22,11,33,22,34,67]\n",
    "\n",
    "print remove_dup(input)"
   ]
  },
  {
   "cell_type": "code",
   "execution_count": 6,
   "metadata": {},
   "outputs": [
    {
     "name": "stdout",
     "output_type": "stream",
     "text": [
      "[11, 22, 33, 34, 67]\n"
     ]
    }
   ],
   "source": [
    "def remove_dup(input):\n",
    "    output=[]\n",
    "    \n",
    "    for i in input:\n",
    "        if i not in output:\n",
    "            output.append(i)\n",
    "    \n",
    "    return output\n",
    "    \n",
    "input = [11,22,11,33,22,34,67]\n",
    "\n",
    "print remove_dup(input)"
   ]
  },
  {
   "cell_type": "markdown",
   "metadata": {},
   "source": [
    "## How to find largest and smallest number in array?"
   ]
  },
  {
   "cell_type": "code",
   "execution_count": 10,
   "metadata": {},
   "outputs": [
    {
     "name": "stdout",
     "output_type": "stream",
     "text": [
      "(67, 11)\n"
     ]
    }
   ],
   "source": [
    "def find_largest_smallest(input):\n",
    "    largest = input[0]\n",
    "    smallest = input[0]\n",
    "    \n",
    "    for i in input:\n",
    "        if i > largest:\n",
    "            largest = i\n",
    "        if i < smallest:\n",
    "            smallest = i\n",
    "    \n",
    "    return (largest,smallest)\n",
    "    \n",
    "input = [11,22,11,33,22,34,67]\n",
    "\n",
    "print find_largest_smallest(input)"
   ]
  },
  {
   "cell_type": "markdown",
   "metadata": {},
   "source": [
    "## How to find top two maximum number in array?"
   ]
  },
  {
   "cell_type": "code",
   "execution_count": 13,
   "metadata": {},
   "outputs": [
    {
     "name": "stdout",
     "output_type": "stream",
     "text": [
      "(67, 34)\n"
     ]
    }
   ],
   "source": [
    "def get_two_max(input):\n",
    "    \n",
    "    first = input[0]\n",
    "    second = input[0]\n",
    "    \n",
    "    for i in input:\n",
    "        if i > first:\n",
    "            second = first\n",
    "            first = i\n",
    "    \n",
    "    return (first,second)\n",
    "    \n",
    "input = [11,22,11,33,22,34,67,67,34]\n",
    "\n",
    "print get_two_max(input)"
   ]
  },
  {
   "cell_type": "markdown",
   "metadata": {},
   "source": [
    "## Write code to check whether a no is power of two or not?"
   ]
  },
  {
   "cell_type": "code",
   "execution_count": 21,
   "metadata": {},
   "outputs": [
    {
     "name": "stdout",
     "output_type": "stream",
     "text": [
      "True\n"
     ]
    }
   ],
   "source": [
    "def is_odd(num):\n",
    "    if num % 2 == 0:\n",
    "        return False\n",
    "    else:\n",
    "        return True\n",
    "\n",
    "\n",
    "def check_power_of_two(input):\n",
    "    \n",
    "    if is_odd(input):\n",
    "        return False\n",
    "    \n",
    "    result = 0\n",
    "    \n",
    "#     print(\"going in while loop\")\n",
    "    \n",
    "    while True:\n",
    "        result = input / 2\n",
    "        \n",
    "#         print result\n",
    "        \n",
    "        if result == 1:\n",
    "            return True\n",
    "        \n",
    "        if is_odd(result):\n",
    "            return False\n",
    "        \n",
    "        input = input / 2    \n",
    "            \n",
    "input = 1024\n",
    "print check_power_of_two(input)"
   ]
  },
  {
   "cell_type": "code",
   "execution_count": 26,
   "metadata": {},
   "outputs": [
    {
     "name": "stdout",
     "output_type": "stream",
     "text": [
      "False\n"
     ]
    }
   ],
   "source": [
    "def is_power(n):\n",
    "    return ((n & (n - 1)) == 0) and n != 0\n",
    "\n",
    "input = 0\n",
    "print is_power(input)"
   ]
  },
  {
   "cell_type": "code",
   "execution_count": 29,
   "metadata": {},
   "outputs": [
    {
     "name": "stdout",
     "output_type": "stream",
     "text": [
      "False\n"
     ]
    }
   ],
   "source": [
    "import math\n",
    "def is_power_of_two(num):\n",
    "    x = math.log10(num)/math.log10(2)\n",
    "    return 2 ** x == num\n",
    "    \n",
    "input = 15\n",
    "print is_power_of_two(input)        "
   ]
  },
  {
   "cell_type": "markdown",
   "metadata": {},
   "source": [
    "## Write a program to check whether a number is palindrome or not?"
   ]
  },
  {
   "cell_type": "code",
   "execution_count": 33,
   "metadata": {},
   "outputs": [
    {
     "name": "stdout",
     "output_type": "stream",
     "text": [
      "(3, 3, 34)\n",
      "(4, 34, 3)\n",
      "(3, 343, 0)\n",
      "True\n"
     ]
    }
   ],
   "source": [
    "def get_reverse(num):\n",
    "    \n",
    "    reverse = 0\n",
    "    \n",
    "    while(num != 0):\n",
    "        rem = num%10\n",
    "        reverse = reverse*10 + rem\n",
    "        num = num / 10\n",
    "        print(rem,reverse,num)\n",
    "\n",
    "    return reverse\n",
    "\n",
    "def is_palindrom(num):\n",
    "    return get_reverse(num) == num\n",
    "    \n",
    "\n",
    "print is_palindrom(343)    "
   ]
  },
  {
   "cell_type": "markdown",
   "metadata": {},
   "source": [
    "## Write code to check whether an integer is Armstrong number or not?"
   ]
  },
  {
   "cell_type": "code",
   "execution_count": 36,
   "metadata": {},
   "outputs": [
    {
     "name": "stdout",
     "output_type": "stream",
     "text": [
      "True\n"
     ]
    }
   ],
   "source": [
    "def is_armstrong(num):\n",
    "    \n",
    "    sum = 0\n",
    "    check = num\n",
    "    \n",
    "    while(num != 0):\n",
    "        rem = num % 10\n",
    "        sum = sum + rem ** 3\n",
    "        num = num /10\n",
    "        \n",
    "    return sum == check    \n",
    "    \n",
    "print is_armstrong(1)    "
   ]
  },
  {
   "cell_type": "code",
   "execution_count": null,
   "metadata": {
    "collapsed": true
   },
   "outputs": [],
   "source": []
  }
 ],
 "metadata": {
  "kernelspec": {
   "display_name": "Python 3",
   "language": "python",
   "name": "python3"
  },
  "language_info": {
   "codemirror_mode": {
    "name": "ipython",
    "version": 3
   },
   "file_extension": ".py",
   "mimetype": "text/x-python",
   "name": "python",
   "nbconvert_exporter": "python",
   "pygments_lexer": "ipython3",
   "version": "3.6.1"
  }
 },
 "nbformat": 4,
 "nbformat_minor": 1
}
